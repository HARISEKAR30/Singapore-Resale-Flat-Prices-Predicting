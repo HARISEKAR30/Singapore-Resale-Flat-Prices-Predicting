{
 "cells": [
  {
   "cell_type": "code",
   "execution_count": 4,
   "metadata": {},
   "outputs": [],
   "source": [
    "import pandas as pd\n",
    "import numpy as np\n",
    "import matplotlib.pyplot as plt\n",
    "import seaborn as sns\n",
    "from sklearn.linear_model import LinearRegression\n",
    "from sklearn.tree import DecisionTreeRegressor\n",
    "from sklearn.ensemble import RandomForestRegressor\n",
    "from sklearn.metrics import r2_score,mean_squared_error,mean_absolute_error\n",
    "from sklearn.preprocessing import LabelEncoder,OrdinalEncoder\n",
    "from sklearn.ensemble import AdaBoostRegressor\n",
    "from sklearn.ensemble import ExtraTreesRegressor\n",
    "from sklearn.ensemble import GradientBoostingRegressor\n",
    "from xgboost import XGBRegressor\n",
    "import pickle\n",
    "import joblib\n",
    "from sklearn.model_selection import train_test_split\n",
    "from scipy.stats import skew\n",
    "import os\n",
    "import warnings\n",
    "warnings.filterwarnings(\"ignore\")\n"
   ]
  },
  {
   "cell_type": "code",
   "execution_count": 76,
   "metadata": {},
   "outputs": [],
   "source": [
    "df1=pd.read_csv(r\"C:\\Users\\ADMIN\\Desktop\\DATA SCIENCE\\PROJECT\\SINGAPORE SALES PRED\\ResaleFlatPricesBasedonApprovalDate19901999.csv\")\n",
    "df2=pd.read_csv(r\"C:\\Users\\ADMIN\\Desktop\\DATA SCIENCE\\PROJECT\\SINGAPORE SALES PRED\\ResaleFlatPricesBasedonApprovalDate2000Feb2012.csv\")\n",
    "df3=pd.read_csv(r\"C:\\Users\\ADMIN\\Desktop\\DATA SCIENCE\\PROJECT\\SINGAPORE SALES PRED\\ResaleFlatPricesBasedonRegistrationDateFromMar2012toDec2014.csv\")\n",
    "df4=pd.read_csv(r\"C:\\Users\\ADMIN\\Desktop\\DATA SCIENCE\\PROJECT\\SINGAPORE SALES PRED\\ResaleFlatPricesBasedonRegistrationDateFromJan2015toDec2016.csv\")\n",
    "df5=pd.read_csv(r\"C:\\Users\\ADMIN\\Desktop\\DATA SCIENCE\\PROJECT\\SINGAPORE SALES PRED\\ResaleflatpricesbasedonregistrationdatefromJan2017onwards.csv\")"
   ]
  },
  {
   "cell_type": "code",
   "execution_count": 77,
   "metadata": {},
   "outputs": [],
   "source": [
    "df=pd.concat([df1,df2,df3,df4,df5])"
   ]
  },
  {
   "cell_type": "code",
   "execution_count": null,
   "metadata": {},
   "outputs": [],
   "source": [
    "from ydata_profiling import ProfileReport\n",
    "#automate eda\n",
    "pr=ProfileReport(df)\n",
    "pr"
   ]
  },
  {
   "cell_type": "code",
   "execution_count": 78,
   "metadata": {},
   "outputs": [
    {
     "data": {
      "text/plain": [
       "(926819, 11)"
      ]
     },
     "execution_count": 78,
     "metadata": {},
     "output_type": "execute_result"
    }
   ],
   "source": [
    "df.shape"
   ]
  },
  {
   "cell_type": "code",
   "execution_count": 79,
   "metadata": {},
   "outputs": [
    {
     "data": {
      "text/html": [
       "<div>\n",
       "<style scoped>\n",
       "    .dataframe tbody tr th:only-of-type {\n",
       "        vertical-align: middle;\n",
       "    }\n",
       "\n",
       "    .dataframe tbody tr th {\n",
       "        vertical-align: top;\n",
       "    }\n",
       "\n",
       "    .dataframe thead th {\n",
       "        text-align: right;\n",
       "    }\n",
       "</style>\n",
       "<table border=\"1\" class=\"dataframe\">\n",
       "  <thead>\n",
       "    <tr style=\"text-align: right;\">\n",
       "      <th></th>\n",
       "      <th>month</th>\n",
       "      <th>town</th>\n",
       "      <th>flat_type</th>\n",
       "      <th>block</th>\n",
       "      <th>street_name</th>\n",
       "      <th>storey_range</th>\n",
       "      <th>floor_area_sqm</th>\n",
       "      <th>flat_model</th>\n",
       "      <th>lease_commence_date</th>\n",
       "      <th>resale_price</th>\n",
       "      <th>remaining_lease</th>\n",
       "    </tr>\n",
       "  </thead>\n",
       "  <tbody>\n",
       "    <tr>\n",
       "      <th>0</th>\n",
       "      <td>1990-01</td>\n",
       "      <td>ANG MO KIO</td>\n",
       "      <td>1 ROOM</td>\n",
       "      <td>309</td>\n",
       "      <td>ANG MO KIO AVE 1</td>\n",
       "      <td>10 TO 12</td>\n",
       "      <td>31.0</td>\n",
       "      <td>IMPROVED</td>\n",
       "      <td>1977</td>\n",
       "      <td>9000.0</td>\n",
       "      <td>NaN</td>\n",
       "    </tr>\n",
       "    <tr>\n",
       "      <th>1</th>\n",
       "      <td>1990-01</td>\n",
       "      <td>ANG MO KIO</td>\n",
       "      <td>1 ROOM</td>\n",
       "      <td>309</td>\n",
       "      <td>ANG MO KIO AVE 1</td>\n",
       "      <td>04 TO 06</td>\n",
       "      <td>31.0</td>\n",
       "      <td>IMPROVED</td>\n",
       "      <td>1977</td>\n",
       "      <td>6000.0</td>\n",
       "      <td>NaN</td>\n",
       "    </tr>\n",
       "    <tr>\n",
       "      <th>2</th>\n",
       "      <td>1990-01</td>\n",
       "      <td>ANG MO KIO</td>\n",
       "      <td>1 ROOM</td>\n",
       "      <td>309</td>\n",
       "      <td>ANG MO KIO AVE 1</td>\n",
       "      <td>10 TO 12</td>\n",
       "      <td>31.0</td>\n",
       "      <td>IMPROVED</td>\n",
       "      <td>1977</td>\n",
       "      <td>8000.0</td>\n",
       "      <td>NaN</td>\n",
       "    </tr>\n",
       "  </tbody>\n",
       "</table>\n",
       "</div>"
      ],
      "text/plain": [
       "     month        town flat_type block       street_name storey_range  \\\n",
       "0  1990-01  ANG MO KIO    1 ROOM   309  ANG MO KIO AVE 1     10 TO 12   \n",
       "1  1990-01  ANG MO KIO    1 ROOM   309  ANG MO KIO AVE 1     04 TO 06   \n",
       "2  1990-01  ANG MO KIO    1 ROOM   309  ANG MO KIO AVE 1     10 TO 12   \n",
       "\n",
       "   floor_area_sqm flat_model  lease_commence_date  resale_price  \\\n",
       "0            31.0   IMPROVED                 1977        9000.0   \n",
       "1            31.0   IMPROVED                 1977        6000.0   \n",
       "2            31.0   IMPROVED                 1977        8000.0   \n",
       "\n",
       "  remaining_lease  \n",
       "0             NaN  \n",
       "1             NaN  \n",
       "2             NaN  "
      ]
     },
     "execution_count": 79,
     "metadata": {},
     "output_type": "execute_result"
    }
   ],
   "source": [
    "df.head(3)"
   ]
  },
  {
   "cell_type": "code",
   "execution_count": 80,
   "metadata": {},
   "outputs": [],
   "source": [
    "df[[\"storey_range_start\",\"storey_range_end\"]] = df[\"storey_range\"].str.split(\" TO \",expand=True)\n",
    "df.drop(\"storey_range\",axis=1,inplace=True)\n",
    "df['storey_range_start']=pd.to_numeric(df['storey_range_start'])\n",
    "df['storey_range_end']=pd.to_numeric(df['storey_range_end'])"
   ]
  },
  {
   "cell_type": "code",
   "execution_count": 81,
   "metadata": {},
   "outputs": [],
   "source": [
    "df[['resale_year','resale_month']] = df[\"month\"].str.split(\"-\",expand=True)\n",
    "df.drop(\"month\",axis=1,inplace=True)\n",
    "df['resale_year']=pd.to_numeric(df['resale_year'])\n",
    "df['resale_month']=pd.to_numeric(df['resale_month'])"
   ]
  },
  {
   "cell_type": "code",
   "execution_count": 11,
   "metadata": {},
   "outputs": [
    {
     "data": {
      "text/plain": [
       "Index(['town', 'flat_type', 'block', 'street_name', 'floor_area_sqm',\n",
       "       'flat_model', 'lease_commence_date', 'resale_price', 'remaining_lease',\n",
       "       'storey_range_start', 'storey_range_end', 'resale_year',\n",
       "       'resale_month'],\n",
       "      dtype='object')"
      ]
     },
     "execution_count": 11,
     "metadata": {},
     "output_type": "execute_result"
    }
   ],
   "source": [
    "df.columns"
   ]
  },
  {
   "cell_type": "code",
   "execution_count": 82,
   "metadata": {},
   "outputs": [
    {
     "data": {
      "text/plain": [
       "array(['1 ROOM', '3 ROOM', '4 ROOM', '5 ROOM', '2 ROOM', 'EXECUTIVE',\n",
       "       'MULTI GENERATION', 'MULTI-GENERATION'], dtype=object)"
      ]
     },
     "execution_count": 82,
     "metadata": {},
     "output_type": "execute_result"
    }
   ],
   "source": [
    "df.flat_type.unique()"
   ]
  },
  {
   "cell_type": "code",
   "execution_count": 83,
   "metadata": {},
   "outputs": [],
   "source": [
    "df.flat_type = df['flat_type'].str.replace(\"MULTI-GENERATION\",\"MULTI GENERATION\")"
   ]
  },
  {
   "cell_type": "code",
   "execution_count": 84,
   "metadata": {},
   "outputs": [
    {
     "data": {
      "text/plain": [
       "array(['1 ROOM', '3 ROOM', '4 ROOM', '5 ROOM', '2 ROOM', 'EXECUTIVE',\n",
       "       'MULTI GENERATION'], dtype=object)"
      ]
     },
     "execution_count": 84,
     "metadata": {},
     "output_type": "execute_result"
    }
   ],
   "source": [
    "df.flat_type.unique()"
   ]
  },
  {
   "cell_type": "code",
   "execution_count": 85,
   "metadata": {},
   "outputs": [],
   "source": [
    "flat_model=df.flat_model.unique()"
   ]
  },
  {
   "cell_type": "code",
   "execution_count": 86,
   "metadata": {},
   "outputs": [
    {
     "data": {
      "text/plain": [
       "array(['IMPROVED', 'NEW GENERATION', 'MODEL A', 'STANDARD', 'SIMPLIFIED',\n",
       "       'MODEL A-MAISONETTE', 'APARTMENT', 'MAISONETTE', 'TERRACE',\n",
       "       '2-ROOM', 'IMPROVED-MAISONETTE', 'MULTI GENERATION',\n",
       "       'PREMIUM APARTMENT', 'Improved', 'New Generation', 'Model A',\n",
       "       'Standard', 'Apartment', 'Simplified', 'Model A-Maisonette',\n",
       "       'Maisonette', 'Multi Generation', 'Adjoined flat',\n",
       "       'Premium Apartment', 'Terrace', 'Improved-Maisonette',\n",
       "       'Premium Maisonette', '2-room', 'Model A2', 'DBSS', 'Type S1',\n",
       "       'Type S2', 'Premium Apartment Loft', '3Gen'], dtype=object)"
      ]
     },
     "execution_count": 86,
     "metadata": {},
     "output_type": "execute_result"
    }
   ],
   "source": [
    "flat_model"
   ]
  },
  {
   "cell_type": "code",
   "execution_count": 87,
   "metadata": {},
   "outputs": [
    {
     "data": {
      "text/plain": [
       "['2-ROOM',\n",
       " '2-room',\n",
       " '3Gen',\n",
       " 'APARTMENT',\n",
       " 'Adjoined flat',\n",
       " 'Apartment',\n",
       " 'DBSS',\n",
       " 'IMPROVED',\n",
       " 'IMPROVED-MAISONETTE',\n",
       " 'Improved',\n",
       " 'Improved-Maisonette',\n",
       " 'MAISONETTE',\n",
       " 'MODEL A',\n",
       " 'MODEL A-MAISONETTE',\n",
       " 'MULTI GENERATION',\n",
       " 'Maisonette',\n",
       " 'Model A',\n",
       " 'Model A-Maisonette',\n",
       " 'Model A2',\n",
       " 'Multi Generation',\n",
       " 'NEW GENERATION',\n",
       " 'New Generation',\n",
       " 'PREMIUM APARTMENT',\n",
       " 'Premium Apartment',\n",
       " 'Premium Apartment Loft',\n",
       " 'Premium Maisonette',\n",
       " 'SIMPLIFIED',\n",
       " 'STANDARD',\n",
       " 'Simplified',\n",
       " 'Standard',\n",
       " 'TERRACE',\n",
       " 'Terrace',\n",
       " 'Type S1',\n",
       " 'Type S2']"
      ]
     },
     "execution_count": 87,
     "metadata": {},
     "output_type": "execute_result"
    }
   ],
   "source": [
    "flat_model=sorted(flat_model)\n",
    "flat_model"
   ]
  },
  {
   "cell_type": "code",
   "execution_count": 88,
   "metadata": {},
   "outputs": [],
   "source": [
    "df.flat_model=df['flat_model'].str.capitalize()"
   ]
  },
  {
   "cell_type": "code",
   "execution_count": 89,
   "metadata": {},
   "outputs": [
    {
     "data": {
      "text/plain": [
       "array(['Improved', 'New generation', 'Model a', 'Standard', 'Simplified',\n",
       "       'Model a-maisonette', 'Apartment', 'Maisonette', 'Terrace',\n",
       "       '2-room', 'Improved-maisonette', 'Multi generation',\n",
       "       'Premium apartment', 'Adjoined flat', 'Premium maisonette',\n",
       "       'Model a2', 'Dbss', 'Type s1', 'Type s2', 'Premium apartment loft',\n",
       "       '3gen'], dtype=object)"
      ]
     },
     "execution_count": 89,
     "metadata": {},
     "output_type": "execute_result"
    }
   ],
   "source": [
    "df.flat_model.unique()"
   ]
  },
  {
   "cell_type": "code",
   "execution_count": 90,
   "metadata": {},
   "outputs": [
    {
     "data": {
      "text/plain": [
       "array(['ANG MO KIO', 'BEDOK', 'BISHAN', 'BUKIT BATOK', 'BUKIT MERAH',\n",
       "       'BUKIT TIMAH', 'CENTRAL AREA', 'CHOA CHU KANG', 'CLEMENTI',\n",
       "       'GEYLANG', 'HOUGANG', 'JURONG EAST', 'JURONG WEST',\n",
       "       'KALLANG/WHAMPOA', 'MARINE PARADE', 'QUEENSTOWN', 'SENGKANG',\n",
       "       'SERANGOON', 'TAMPINES', 'TOA PAYOH', 'WOODLANDS', 'YISHUN',\n",
       "       'LIM CHU KANG', 'SEMBAWANG', 'BUKIT PANJANG', 'PASIR RIS',\n",
       "       'PUNGGOL'], dtype=object)"
      ]
     },
     "execution_count": 90,
     "metadata": {},
     "output_type": "execute_result"
    }
   ],
   "source": [
    "df.town.unique()"
   ]
  },
  {
   "cell_type": "code",
   "execution_count": 91,
   "metadata": {},
   "outputs": [],
   "source": [
    "df.town=df['town'].str.capitalize()\n",
    "df.street_name=df['street_name'].str.capitalize()\n",
    "df.flat_type=df['flat_type'].str.capitalize()"
   ]
  },
  {
   "cell_type": "code",
   "execution_count": 92,
   "metadata": {},
   "outputs": [
    {
     "data": {
      "text/plain": [
       "180606    92 years 10 months\n",
       "180607    62 years 10 months\n",
       "180608    63 years 04 months\n",
       "180609    62 years 05 months\n",
       "180610    63 years 06 months\n",
       "180611    63 years 03 months\n",
       "180612    63 years 02 months\n",
       "180613    67 years 02 months\n",
       "180614    62 years 05 months\n",
       "180615    62 years 09 months\n",
       "Name: remaining_lease, dtype: object"
      ]
     },
     "execution_count": 92,
     "metadata": {},
     "output_type": "execute_result"
    }
   ],
   "source": [
    "df.remaining_lease.tail(10)"
   ]
  },
  {
   "cell_type": "code",
   "execution_count": 93,
   "metadata": {},
   "outputs": [],
   "source": [
    "#converting the remaining lease columns\n",
    "def convert_years_str(row):\n",
    "    if pd.notna(row) and isinstance(row,str):\n",
    "        split_yr_month = row.split()\n",
    "        year = float(split_yr_month[0])\n",
    "        month = float(split_yr_month[2] if len(split_yr_month)>2 else 0)\n",
    "        year = year+(month/12)\n",
    "        return year\n",
    "    return row \n",
    "\n",
    "df.remaining_lease = df['remaining_lease'].apply(convert_years_str)"
   ]
  },
  {
   "cell_type": "code",
   "execution_count": 94,
   "metadata": {},
   "outputs": [
    {
     "data": {
      "text/plain": [
       "180606    92.833333\n",
       "180607    62.833333\n",
       "180608    63.333333\n",
       "180609    62.416667\n",
       "180610    63.500000\n",
       "180611    63.250000\n",
       "180612    63.166667\n",
       "180613    67.166667\n",
       "180614    62.416667\n",
       "180615    62.750000\n",
       "Name: remaining_lease, dtype: float64"
      ]
     },
     "execution_count": 94,
     "metadata": {},
     "output_type": "execute_result"
    }
   ],
   "source": [
    "df.remaining_lease.tail(10)"
   ]
  },
  {
   "cell_type": "code",
   "execution_count": 95,
   "metadata": {},
   "outputs": [
    {
     "data": {
      "text/plain": [
       "town                        0\n",
       "flat_type                   0\n",
       "block                       0\n",
       "street_name                 0\n",
       "floor_area_sqm              0\n",
       "flat_model                  0\n",
       "lease_commence_date         0\n",
       "resale_price                0\n",
       "remaining_lease        709050\n",
       "storey_range_start          0\n",
       "storey_range_end            0\n",
       "resale_year                 0\n",
       "resale_month                0\n",
       "dtype: int64"
      ]
     },
     "execution_count": 95,
     "metadata": {},
     "output_type": "execute_result"
    }
   ],
   "source": [
    "df.isna().sum()"
   ]
  },
  {
   "cell_type": "code",
   "execution_count": 96,
   "metadata": {},
   "outputs": [],
   "source": [
    "# filling the null values using mode\n",
    "df.remaining_lease.fillna(df['remaining_lease'].mode()[0],inplace =True)"
   ]
  },
  {
   "cell_type": "code",
   "execution_count": 97,
   "metadata": {},
   "outputs": [
    {
     "data": {
      "text/plain": [
       "town                   0\n",
       "flat_type              0\n",
       "block                  0\n",
       "street_name            0\n",
       "floor_area_sqm         0\n",
       "flat_model             0\n",
       "lease_commence_date    0\n",
       "resale_price           0\n",
       "remaining_lease        0\n",
       "storey_range_start     0\n",
       "storey_range_end       0\n",
       "resale_year            0\n",
       "resale_month           0\n",
       "dtype: int64"
      ]
     },
     "execution_count": 97,
     "metadata": {},
     "output_type": "execute_result"
    }
   ],
   "source": [
    "df.isna().sum()"
   ]
  },
  {
   "cell_type": "code",
   "execution_count": 98,
   "metadata": {},
   "outputs": [
    {
     "name": "stdout",
     "output_type": "stream",
     "text": [
      "<class 'pandas.core.frame.DataFrame'>\n",
      "Index: 926819 entries, 0 to 180615\n",
      "Data columns (total 13 columns):\n",
      " #   Column               Non-Null Count   Dtype  \n",
      "---  ------               --------------   -----  \n",
      " 0   town                 926819 non-null  object \n",
      " 1   flat_type            926819 non-null  object \n",
      " 2   block                926819 non-null  object \n",
      " 3   street_name          926819 non-null  object \n",
      " 4   floor_area_sqm       926819 non-null  float64\n",
      " 5   flat_model           926819 non-null  object \n",
      " 6   lease_commence_date  926819 non-null  int64  \n",
      " 7   resale_price         926819 non-null  float64\n",
      " 8   remaining_lease      926819 non-null  float64\n",
      " 9   storey_range_start   926819 non-null  int64  \n",
      " 10  storey_range_end     926819 non-null  int64  \n",
      " 11  resale_year          926819 non-null  int64  \n",
      " 12  resale_month         926819 non-null  int64  \n",
      "dtypes: float64(3), int64(5), object(5)\n",
      "memory usage: 99.0+ MB\n"
     ]
    }
   ],
   "source": [
    "df.info()"
   ]
  },
  {
   "cell_type": "code",
   "execution_count": 99,
   "metadata": {},
   "outputs": [
    {
     "data": {
      "text/plain": [
       "124356"
      ]
     },
     "execution_count": 99,
     "metadata": {},
     "output_type": "execute_result"
    }
   ],
   "source": [
    "df['block']=pd.to_numeric(df['block'],errors='coerce')\n",
    "df['block'].isna().sum()"
   ]
  },
  {
   "cell_type": "code",
   "execution_count": 100,
   "metadata": {},
   "outputs": [],
   "source": [
    "# filling the null values using mode\n",
    "df['block'].fillna(df['block'].mode()[0],inplace =True)"
   ]
  },
  {
   "cell_type": "code",
   "execution_count": 101,
   "metadata": {},
   "outputs": [
    {
     "data": {
      "text/html": [
       "<div>\n",
       "<style scoped>\n",
       "    .dataframe tbody tr th:only-of-type {\n",
       "        vertical-align: middle;\n",
       "    }\n",
       "\n",
       "    .dataframe tbody tr th {\n",
       "        vertical-align: top;\n",
       "    }\n",
       "\n",
       "    .dataframe thead th {\n",
       "        text-align: right;\n",
       "    }\n",
       "</style>\n",
       "<table border=\"1\" class=\"dataframe\">\n",
       "  <thead>\n",
       "    <tr style=\"text-align: right;\">\n",
       "      <th></th>\n",
       "      <th>town</th>\n",
       "      <th>flat_type</th>\n",
       "      <th>block</th>\n",
       "      <th>street_name</th>\n",
       "      <th>floor_area_sqm</th>\n",
       "      <th>flat_model</th>\n",
       "      <th>lease_commence_date</th>\n",
       "      <th>resale_price</th>\n",
       "      <th>remaining_lease</th>\n",
       "      <th>storey_range_start</th>\n",
       "      <th>storey_range_end</th>\n",
       "      <th>resale_year</th>\n",
       "      <th>resale_month</th>\n",
       "    </tr>\n",
       "  </thead>\n",
       "  <tbody>\n",
       "    <tr>\n",
       "      <th>0</th>\n",
       "      <td>Ang mo kio</td>\n",
       "      <td>1 room</td>\n",
       "      <td>309.0</td>\n",
       "      <td>Ang mo kio ave 1</td>\n",
       "      <td>31.0</td>\n",
       "      <td>Improved</td>\n",
       "      <td>1977</td>\n",
       "      <td>9000.0</td>\n",
       "      <td>68.000000</td>\n",
       "      <td>10</td>\n",
       "      <td>12</td>\n",
       "      <td>1990</td>\n",
       "      <td>1</td>\n",
       "    </tr>\n",
       "    <tr>\n",
       "      <th>1</th>\n",
       "      <td>Ang mo kio</td>\n",
       "      <td>1 room</td>\n",
       "      <td>309.0</td>\n",
       "      <td>Ang mo kio ave 1</td>\n",
       "      <td>31.0</td>\n",
       "      <td>Improved</td>\n",
       "      <td>1977</td>\n",
       "      <td>6000.0</td>\n",
       "      <td>68.000000</td>\n",
       "      <td>4</td>\n",
       "      <td>6</td>\n",
       "      <td>1990</td>\n",
       "      <td>1</td>\n",
       "    </tr>\n",
       "    <tr>\n",
       "      <th>2</th>\n",
       "      <td>Ang mo kio</td>\n",
       "      <td>1 room</td>\n",
       "      <td>309.0</td>\n",
       "      <td>Ang mo kio ave 1</td>\n",
       "      <td>31.0</td>\n",
       "      <td>Improved</td>\n",
       "      <td>1977</td>\n",
       "      <td>8000.0</td>\n",
       "      <td>68.000000</td>\n",
       "      <td>10</td>\n",
       "      <td>12</td>\n",
       "      <td>1990</td>\n",
       "      <td>1</td>\n",
       "    </tr>\n",
       "    <tr>\n",
       "      <th>3</th>\n",
       "      <td>Ang mo kio</td>\n",
       "      <td>1 room</td>\n",
       "      <td>309.0</td>\n",
       "      <td>Ang mo kio ave 1</td>\n",
       "      <td>31.0</td>\n",
       "      <td>Improved</td>\n",
       "      <td>1977</td>\n",
       "      <td>6000.0</td>\n",
       "      <td>68.000000</td>\n",
       "      <td>7</td>\n",
       "      <td>9</td>\n",
       "      <td>1990</td>\n",
       "      <td>1</td>\n",
       "    </tr>\n",
       "    <tr>\n",
       "      <th>4</th>\n",
       "      <td>Ang mo kio</td>\n",
       "      <td>3 room</td>\n",
       "      <td>216.0</td>\n",
       "      <td>Ang mo kio ave 1</td>\n",
       "      <td>73.0</td>\n",
       "      <td>New generation</td>\n",
       "      <td>1976</td>\n",
       "      <td>47200.0</td>\n",
       "      <td>68.000000</td>\n",
       "      <td>4</td>\n",
       "      <td>6</td>\n",
       "      <td>1990</td>\n",
       "      <td>1</td>\n",
       "    </tr>\n",
       "    <tr>\n",
       "      <th>...</th>\n",
       "      <td>...</td>\n",
       "      <td>...</td>\n",
       "      <td>...</td>\n",
       "      <td>...</td>\n",
       "      <td>...</td>\n",
       "      <td>...</td>\n",
       "      <td>...</td>\n",
       "      <td>...</td>\n",
       "      <td>...</td>\n",
       "      <td>...</td>\n",
       "      <td>...</td>\n",
       "      <td>...</td>\n",
       "      <td>...</td>\n",
       "    </tr>\n",
       "    <tr>\n",
       "      <th>180611</th>\n",
       "      <td>Yishun</td>\n",
       "      <td>Executive</td>\n",
       "      <td>360.0</td>\n",
       "      <td>Yishun ring rd</td>\n",
       "      <td>145.0</td>\n",
       "      <td>Apartment</td>\n",
       "      <td>1988</td>\n",
       "      <td>735000.0</td>\n",
       "      <td>63.250000</td>\n",
       "      <td>4</td>\n",
       "      <td>6</td>\n",
       "      <td>2024</td>\n",
       "      <td>5</td>\n",
       "    </tr>\n",
       "    <tr>\n",
       "      <th>180612</th>\n",
       "      <td>Yishun</td>\n",
       "      <td>Executive</td>\n",
       "      <td>2.0</td>\n",
       "      <td>Yishun ring rd</td>\n",
       "      <td>146.0</td>\n",
       "      <td>Maisonette</td>\n",
       "      <td>1988</td>\n",
       "      <td>815888.0</td>\n",
       "      <td>63.166667</td>\n",
       "      <td>1</td>\n",
       "      <td>3</td>\n",
       "      <td>2024</td>\n",
       "      <td>5</td>\n",
       "    </tr>\n",
       "    <tr>\n",
       "      <th>180613</th>\n",
       "      <td>Yishun</td>\n",
       "      <td>Executive</td>\n",
       "      <td>292.0</td>\n",
       "      <td>Yishun st 22</td>\n",
       "      <td>169.0</td>\n",
       "      <td>Apartment</td>\n",
       "      <td>1992</td>\n",
       "      <td>1032000.0</td>\n",
       "      <td>67.166667</td>\n",
       "      <td>1</td>\n",
       "      <td>3</td>\n",
       "      <td>2024</td>\n",
       "      <td>5</td>\n",
       "    </tr>\n",
       "    <tr>\n",
       "      <th>180614</th>\n",
       "      <td>Yishun</td>\n",
       "      <td>Executive</td>\n",
       "      <td>643.0</td>\n",
       "      <td>Yishun st 61</td>\n",
       "      <td>142.0</td>\n",
       "      <td>Apartment</td>\n",
       "      <td>1987</td>\n",
       "      <td>800000.0</td>\n",
       "      <td>62.416667</td>\n",
       "      <td>10</td>\n",
       "      <td>12</td>\n",
       "      <td>2024</td>\n",
       "      <td>5</td>\n",
       "    </tr>\n",
       "    <tr>\n",
       "      <th>180615</th>\n",
       "      <td>Yishun</td>\n",
       "      <td>Executive</td>\n",
       "      <td>834.0</td>\n",
       "      <td>Yishun st 81</td>\n",
       "      <td>154.0</td>\n",
       "      <td>Maisonette</td>\n",
       "      <td>1988</td>\n",
       "      <td>948000.0</td>\n",
       "      <td>62.750000</td>\n",
       "      <td>4</td>\n",
       "      <td>6</td>\n",
       "      <td>2024</td>\n",
       "      <td>5</td>\n",
       "    </tr>\n",
       "  </tbody>\n",
       "</table>\n",
       "<p>926819 rows × 13 columns</p>\n",
       "</div>"
      ],
      "text/plain": [
       "              town  flat_type  block       street_name  floor_area_sqm  \\\n",
       "0       Ang mo kio     1 room  309.0  Ang mo kio ave 1            31.0   \n",
       "1       Ang mo kio     1 room  309.0  Ang mo kio ave 1            31.0   \n",
       "2       Ang mo kio     1 room  309.0  Ang mo kio ave 1            31.0   \n",
       "3       Ang mo kio     1 room  309.0  Ang mo kio ave 1            31.0   \n",
       "4       Ang mo kio     3 room  216.0  Ang mo kio ave 1            73.0   \n",
       "...            ...        ...    ...               ...             ...   \n",
       "180611      Yishun  Executive  360.0    Yishun ring rd           145.0   \n",
       "180612      Yishun  Executive    2.0    Yishun ring rd           146.0   \n",
       "180613      Yishun  Executive  292.0      Yishun st 22           169.0   \n",
       "180614      Yishun  Executive  643.0      Yishun st 61           142.0   \n",
       "180615      Yishun  Executive  834.0      Yishun st 81           154.0   \n",
       "\n",
       "            flat_model  lease_commence_date  resale_price  remaining_lease  \\\n",
       "0             Improved                 1977        9000.0        68.000000   \n",
       "1             Improved                 1977        6000.0        68.000000   \n",
       "2             Improved                 1977        8000.0        68.000000   \n",
       "3             Improved                 1977        6000.0        68.000000   \n",
       "4       New generation                 1976       47200.0        68.000000   \n",
       "...                ...                  ...           ...              ...   \n",
       "180611       Apartment                 1988      735000.0        63.250000   \n",
       "180612      Maisonette                 1988      815888.0        63.166667   \n",
       "180613       Apartment                 1992     1032000.0        67.166667   \n",
       "180614       Apartment                 1987      800000.0        62.416667   \n",
       "180615      Maisonette                 1988      948000.0        62.750000   \n",
       "\n",
       "        storey_range_start  storey_range_end  resale_year  resale_month  \n",
       "0                       10                12         1990             1  \n",
       "1                        4                 6         1990             1  \n",
       "2                       10                12         1990             1  \n",
       "3                        7                 9         1990             1  \n",
       "4                        4                 6         1990             1  \n",
       "...                    ...               ...          ...           ...  \n",
       "180611                   4                 6         2024             5  \n",
       "180612                   1                 3         2024             5  \n",
       "180613                   1                 3         2024             5  \n",
       "180614                  10                12         2024             5  \n",
       "180615                   4                 6         2024             5  \n",
       "\n",
       "[926819 rows x 13 columns]"
      ]
     },
     "execution_count": 101,
     "metadata": {},
     "output_type": "execute_result"
    }
   ],
   "source": [
    "df"
   ]
  },
  {
   "cell_type": "code",
   "execution_count": 102,
   "metadata": {},
   "outputs": [
    {
     "name": "stdout",
     "output_type": "stream",
     "text": [
      "File saved sucessfully...!\n"
     ]
    }
   ],
   "source": [
    "file_path =r\"C:\\Users\\ADMIN\\Desktop\\DATA SCIENCE\\PROJECT\\SINGAPORE SALES PRED/processed_singapore_flat.csv\"\n",
    "\n",
    "if not os.path.exists(file_path):\n",
    "    df.to_csv(file_path,index=False)\n",
    "    print(\"File saved sucessfully...!\")\n",
    "else:\n",
    "    print(\"File already exists. skip saving...\")"
   ]
  },
  {
   "cell_type": "code",
   "execution_count": 104,
   "metadata": {},
   "outputs": [
    {
     "name": "stdout",
     "output_type": "stream",
     "text": [
      "<class 'pandas.core.frame.DataFrame'>\n",
      "Index: 926819 entries, 0 to 180615\n",
      "Data columns (total 13 columns):\n",
      " #   Column               Non-Null Count   Dtype  \n",
      "---  ------               --------------   -----  \n",
      " 0   town                 926819 non-null  object \n",
      " 1   flat_type            926819 non-null  object \n",
      " 2   block                926819 non-null  float64\n",
      " 3   street_name          926819 non-null  object \n",
      " 4   floor_area_sqm       926819 non-null  float64\n",
      " 5   flat_model           926819 non-null  object \n",
      " 6   lease_commence_date  926819 non-null  int64  \n",
      " 7   resale_price         926819 non-null  float64\n",
      " 8   remaining_lease      926819 non-null  float64\n",
      " 9   storey_range_start   926819 non-null  int64  \n",
      " 10  storey_range_end     926819 non-null  int64  \n",
      " 11  resale_year          926819 non-null  int64  \n",
      " 12  resale_month         926819 non-null  int64  \n",
      "dtypes: float64(4), int64(5), object(4)\n",
      "memory usage: 99.0+ MB\n"
     ]
    }
   ],
   "source": [
    "df.info()"
   ]
  },
  {
   "cell_type": "code",
   "execution_count": 105,
   "metadata": {},
   "outputs": [
    {
     "data": {
      "text/plain": [
       "(array(['Ang mo kio', 'Bedok', 'Bishan', 'Bukit batok', 'Bukit merah',\n",
       "        'Bukit timah', 'Central area', 'Choa chu kang', 'Clementi',\n",
       "        'Geylang', 'Hougang', 'Jurong east', 'Jurong west',\n",
       "        'Kallang/whampoa', 'Marine parade', 'Queenstown', 'Sengkang',\n",
       "        'Serangoon', 'Tampines', 'Toa payoh', 'Woodlands', 'Yishun',\n",
       "        'Lim chu kang', 'Sembawang', 'Bukit panjang', 'Pasir ris',\n",
       "        'Punggol'], dtype=object),\n",
       " array(['Ang mo kio ave 1', 'Ang mo kio ave 3', 'Ang mo kio ave 4',\n",
       "        'Ang mo kio ave 10', 'Ang mo kio ave 5', 'Ang mo kio ave 8',\n",
       "        'Ang mo kio ave 6', 'Ang mo kio ave 9', 'Ang mo kio ave 2',\n",
       "        'Bedok reservoir rd', 'Bedok nth st 3', 'Bedok sth rd',\n",
       "        'New upp changi rd', 'Bedok nth rd', 'Bedok sth ave 1',\n",
       "        'Chai chee rd', 'Chai chee dr', 'Bedok nth ave 4',\n",
       "        'Bedok sth ave 3', 'Bedok sth ave 2', 'Bedok nth st 2',\n",
       "        'Bedok nth st 4', 'Bedok nth ave 2', 'Bedok nth ave 3',\n",
       "        'Bedok nth ave 1', 'Bedok nth st 1', 'Chai chee st', 'Sin ming rd',\n",
       "        'Shunfu rd', 'Bt batok st 11', 'Bt batok west ave 8',\n",
       "        'Bt batok west ave 6', 'Bt batok st 21', 'Bt batok east ave 5',\n",
       "        'Bt batok east ave 4', 'Hillview ave', 'Bt batok ctrl',\n",
       "        'Bt batok st 31', 'Bt batok east ave 3', 'Taman ho swee',\n",
       "        'Telok blangah cres', 'Beo cres', 'Telok blangah dr', 'Depot rd',\n",
       "        'Telok blangah rise', 'Jln bt merah', 'Henderson rd', 'Indus rd',\n",
       "        'Bt merah view', 'Henderson cres', 'Bt purmei rd',\n",
       "        'Telok blangah hts', 'Everton pk', 'Kg bahru hill', 'Redhill cl',\n",
       "        'Hoy fatt rd', 'Havelock rd', 'Jln klinik', 'Jln rumah tinggi',\n",
       "        'Jln bt ho swee', 'Kim cheng st', 'Moh guan ter',\n",
       "        'Telok blangah way', 'Kim tian rd', 'Kim tian pl', 'Empress rd',\n",
       "        \"Queen's rd\", 'Farrer rd', 'Jln kukoh', 'Outram pk', 'Short st',\n",
       "        'Selegie rd', 'Upp cross st', 'Waterloo st', 'Queen st',\n",
       "        'Buffalo rd', 'Rowell rd', 'Rochor rd', 'Bain st', 'Smith st',\n",
       "        'Veerasamy rd', 'Teck whye ave', 'Teck whye lane',\n",
       "        'Clementi ave 3', 'West coast dr', 'Clementi ave 2',\n",
       "        'Clementi ave 5', 'Clementi ave 4', 'Clementi ave 1',\n",
       "        'West coast rd', 'Clementi west st 1', 'Clementi west st 2',\n",
       "        'Clementi st 13', \"C'wealth ave west\", 'Clementi ave 6',\n",
       "        'Clementi st 14', 'Circuit rd', 'Macpherson lane',\n",
       "        'Jln pasar baru', 'Geylang serai', 'Eunos cres', 'Sims dr',\n",
       "        'Aljunied cres', 'Geylang east ave 1', 'Dakota cres', 'Pine cl',\n",
       "        'Haig rd', 'Balam rd', 'Jln dua', 'Geylang east ctrl',\n",
       "        'Eunos rd 5', 'Hougang ave 3', 'Hougang ave 5', 'Hougang ave 1',\n",
       "        'Hougang st 22', 'Hougang ave 10', 'Lor ah soo', 'Hougang st 11',\n",
       "        'Hougang ave 7', 'Hougang st 21', 'Teban gdns rd',\n",
       "        'Jurong east ave 1', 'Jurong east st 32', 'Jurong east st 13',\n",
       "        'Jurong east st 21', 'Jurong east st 24', 'Jurong east st 31',\n",
       "        'Pandan gdns', 'Yung kuang rd', 'Ho ching rd', 'Hu ching rd',\n",
       "        'Boon lay dr', 'Boon lay ave', 'Boon lay pl', 'Jurong west st 52',\n",
       "        'Jurong west st 41', 'Jurong west ave 1', 'Jurong west st 42',\n",
       "        'Jln batu', \"St. george's rd\", 'Nth bridge rd', 'French rd',\n",
       "        'Beach rd', 'Whampoa dr', 'Upp boon keng rd', 'Bendemeer rd',\n",
       "        'Whampoa west', 'Lor limau', 'Kallang bahru', 'Geylang bahru',\n",
       "        'Dorset rd', 'Owen rd', 'Kg arang rd', 'Jln bahagia',\n",
       "        'Moulmein rd', 'Towner rd', 'Jln rajah', 'Kent rd', 'Ah hood rd',\n",
       "        \"King george's ave\", 'Crawford lane', 'Marine cres', 'Marine dr',\n",
       "        'Marine ter', \"C'wealth cl\", \"C'wealth dr\", 'Tanglin halt rd',\n",
       "        \"C'wealth cres\", 'Dover rd', 'Margaret dr', 'Ghim moh rd',\n",
       "        'Dover cres', 'Stirling rd', 'Mei ling st', 'Holland cl',\n",
       "        'Holland ave', 'Holland dr', 'Dover cl east',\n",
       "        'Seletar west farmway 6', 'Lor lew lian', 'Serangoon nth ave 1',\n",
       "        'Serangoon ave 2', 'Serangoon ave 4', 'Serangoon ctrl',\n",
       "        'Tampines st 11', 'Tampines st 21', 'Tampines st 91',\n",
       "        'Tampines st 81', 'Tampines ave 4', 'Tampines st 22',\n",
       "        'Tampines st 12', 'Tampines st 23', 'Tampines st 24',\n",
       "        'Tampines st 41', 'Tampines st 82', 'Tampines st 83',\n",
       "        'Tampines ave 5', 'Lor 2 toa payoh', 'Lor 8 toa payoh',\n",
       "        'Lor 1 toa payoh', 'Lor 5 toa payoh', 'Lor 3 toa payoh',\n",
       "        'Lor 7 toa payoh', 'Toa payoh east', 'Lor 4 toa payoh',\n",
       "        'Toa payoh ctrl', 'Toa payoh nth', 'Potong pasir ave 3',\n",
       "        'Potong pasir ave 1', 'Upp aljunied lane', 'Joo seng rd',\n",
       "        'Marsiling lane', 'Marsiling dr', 'Marsiling rise',\n",
       "        'Marsiling cres', 'Woodlands ctr rd', 'Woodlands st 13',\n",
       "        'Woodlands st 11', 'Yishun ring rd', 'Yishun ave 5',\n",
       "        'Yishun st 72', 'Yishun st 11', 'Yishun st 21', 'Yishun st 22',\n",
       "        'Yishun ave 3', 'Chai chee ave', 'Zion rd', 'Lengkok bahru',\n",
       "        'Spottiswoode pk rd', 'New mkt rd', 'Tg pagar plaza',\n",
       "        'Kelantan rd', 'Paya lebar way', 'Ubi ave 1', 'Sims ave',\n",
       "        'Yung ping rd', 'Tao ching rd', 'Gloucester rd', 'Boon keng rd',\n",
       "        'Whampoa sth', 'Cambridge rd', 'Tampines st 42', 'Lor 6 toa payoh',\n",
       "        'Kim keat ave', 'Yishun ave 6', 'Yishun ave 9', 'Yishun st 71',\n",
       "        'Bt batok st 32', 'Silat ave', 'Tiong bahru rd', 'Sago lane',\n",
       "        \"St. george's lane\", 'Lim chu kang rd', \"C'wealth ave\",\n",
       "        \"Queen's cl\", 'Serangoon ave 3', 'Potong pasir ave 2',\n",
       "        'Woodlands ave 1', 'Yishun ave 4', 'Lower delta rd', 'Nile rd',\n",
       "        'Jln membina barat', 'Jln berseh', 'Chander rd', 'Cassia cres',\n",
       "        'Old airport rd', 'Aljunied rd', 'Buangkok sth farmway 1',\n",
       "        'Bt batok st 33', 'Alexandra rd', 'Chin swee rd', 'Sims pl',\n",
       "        'Hougang ave 2', 'Hougang ave 8', 'Sembawang rd', 'Simei st 1',\n",
       "        'Bt batok st 34', 'Bt merah ctrl', 'Lim liak st', 'Jln tenteram',\n",
       "        'Woodlands st 32', 'Sin ming ave', 'Bt batok st 52', 'Delta ave',\n",
       "        'Pipit rd', 'Hougang ave 4', 'Queensway', 'Yishun st 61',\n",
       "        'Bishan st 12', \"Jln ma'mor\", 'Tampines st 44', 'Tampines st 43',\n",
       "        'Bishan st 13', 'Jln dusun', 'Yishun ave 2', 'Joo chiat rd',\n",
       "        'East coast rd', 'Redhill rd', 'Kim pong rd', 'Race course rd',\n",
       "        'Kreta ayer rd', 'Hougang st 61', 'Tessensohn rd', 'Marsiling rd',\n",
       "        'Yishun st 81', 'Bt batok st 51', 'Bt batok west ave 4',\n",
       "        'Bt batok west ave 2', 'Jurong west st 91', 'Jurong west st 81',\n",
       "        'Gangsa rd', 'Mcnair rd', 'Simei st 4', 'Yishun ave 7',\n",
       "        'Serangoon nth ave 2', 'Yishun ave 11', 'Bangkit rd',\n",
       "        'Jurong west st 73', 'Outram hill', 'Hougang ave 6',\n",
       "        'Pasir ris st 12', 'Pending rd', 'Petir rd', 'Lor 3 geylang',\n",
       "        'Bishan st 11', 'Pasir ris dr 6', 'Bishan st 23',\n",
       "        'Jurong west st 92', 'Pasir ris st 11', 'Yishun ctrl',\n",
       "        'Bishan st 22', 'Simei rd', 'Tampines st 84', 'Bt panjang ring rd',\n",
       "        'Jurong west st 93', 'Fajar rd', 'Woodlands st 81',\n",
       "        'Choa chu kang ctrl', 'Pasir ris st 51', 'Hougang st 52',\n",
       "        'Cashew rd', 'Toh yi dr', 'Hougang ctrl', 'Kg kayu rd',\n",
       "        'Tampines ave 8', 'Tampines st 45', 'Simei st 2',\n",
       "        'Woodlands ave 3', 'Lengkong tiga', 'Woodlands st 82',\n",
       "        'Serangoon nth ave 4', 'Serangoon ctrl dr', 'Bright hill dr',\n",
       "        'Saujana rd', 'Choa chu kang ave 3', 'Tampines ave 9',\n",
       "        'Jurong west st 51', 'Yung ho rd', 'Serangoon ave 1',\n",
       "        'Pasir ris st 41', 'Geylang east ave 2', 'Choa chu kang ave 2',\n",
       "        'Kim keat link', 'Pasir ris dr 4', 'Pasir ris st 21',\n",
       "        'Seng poh rd', 'Hougang st 51', 'Jurong west st 72',\n",
       "        'Jurong west st 71', 'Pasir ris st 52', 'Tampines st 32',\n",
       "        'Choa chu kang ave 4', 'Choa chu kang loop', 'Jln tenaga',\n",
       "        'Tampines ctrl 1', 'Tampines st 33', 'Bt batok west ave 7',\n",
       "        'Jurong west ave 5', 'Tampines ave 7', 'Woodlands st 83',\n",
       "        'Choa chu kang st 51', 'Pasir ris dr 3', 'Yishun ctrl 1',\n",
       "        'Choa chu kang ave 1', 'Woodlands st 31', 'Bt merah lane 1',\n",
       "        'Pasir ris st 13', 'Elias rd', 'Bishan st 24', 'Whampoa rd',\n",
       "        'Woodlands st 41', 'Pasir ris st 71', 'Jurong west st 74',\n",
       "        'Pasir ris dr 1', 'Pasir ris st 72', 'Pasir ris dr 10',\n",
       "        'Choa chu kang st 52', 'Clarence lane', 'Choa chu kang nth 6',\n",
       "        'Pasir ris st 53', 'Choa chu kang nth 5', 'Ang mo kio st 21',\n",
       "        'Jln damai', 'Choa chu kang st 62', 'Woodlands ave 5',\n",
       "        'Woodlands dr 50', 'Choa chu kang st 53', 'Tampines st 72',\n",
       "        'Upp serangoon rd', 'Jurong west st 75', 'Strathmore ave',\n",
       "        'Ang mo kio st 31', 'Tampines st 34', 'Yung an rd',\n",
       "        'Woodlands ave 4', 'Choa chu kang nth 7', 'Ang mo kio st 11',\n",
       "        'Woodlands ave 9', 'Yung loh rd', 'Choa chu kang dr',\n",
       "        'Choa chu kang st 54', 'Redhill lane', 'Kang ching rd',\n",
       "        'Tah ching rd', 'Simei st 5', 'Woodlands dr 40', 'Woodlands dr 70',\n",
       "        'Tampines st 71', 'Woodlands dr 42', 'Serangoon nth ave 3',\n",
       "        'Jelapang rd', 'Bt batok st 22', 'Hougang st 91',\n",
       "        'Woodlands ave 6', 'Woodlands circle', 'Corporation dr',\n",
       "        'Lompang rd', 'Woodlands dr 72', 'Choa chu kang st 64',\n",
       "        'Bt batok st 24', 'Jln teck whye', 'Woodlands cres',\n",
       "        'Woodlands dr 60', 'Changi village rd', 'Bt batok st 25',\n",
       "        'Hougang ave 9', 'Jurong west ctrl 1', 'Woodlands ring rd',\n",
       "        'Choa chu kang ave 5', 'Toh guan rd', 'Jurong west st 61',\n",
       "        'Woodlands dr 14', 'Hougang st 92', 'Choa chu kang cres',\n",
       "        'Sembawang cl', 'Canberra rd', 'Sembawang cres', 'Sembawang vista',\n",
       "        'Compassvale walk', 'Rivervale st', 'Woodlands dr 62',\n",
       "        'Sembawang dr', 'Woodlands dr 53', 'Woodlands dr 52',\n",
       "        'Rivervale walk', 'Compassvale lane', 'Rivervale dr', 'Senja rd',\n",
       "        'Jurong west st 65', 'Rivervale cres', 'Woodlands dr 44',\n",
       "        'Compassvale dr', 'Woodlands dr 16', 'Compassvale rd',\n",
       "        'Woodlands dr 73', 'Hougang st 31', 'Jurong west st 64',\n",
       "        'Woodlands dr 71', 'Yishun st 20', 'Admiralty dr',\n",
       "        'Compassvale st', 'Bedok reservoir view', 'Yung sheng rd',\n",
       "        'Admiralty link', 'Sengkang east way', 'Ang mo kio st 32',\n",
       "        'Ang mo kio st 52', 'Boon tiong rd', 'Jurong west st 62',\n",
       "        'Anchorvale link', 'Canberra link', 'Compassvale cres',\n",
       "        'Clementi st 12', 'Montreal dr', 'Wellington circle',\n",
       "        'Sengkang east rd', 'Jurong west ave 3', 'Anchorvale lane',\n",
       "        'Senja link', 'Edgefield plains', 'Anchorvale dr', 'Segar rd',\n",
       "        'Farrer pk rd', 'Punggol field', 'Edgedale plains',\n",
       "        'Anchorvale rd', 'Cantonment cl', 'Jln membina', 'Fernvale lane',\n",
       "        'Jurong west st 25', 'Clementi st 11', 'Punggol field walk',\n",
       "        'Klang lane', 'Punggol ctrl', 'Jelebu rd', 'Buangkok cres',\n",
       "        'Woodlands dr 75', 'Bt batok west ave 5', 'Jellicoe rd',\n",
       "        'Punggol dr', 'Jurong west st 24', 'Sembawang way', 'Fernvale rd',\n",
       "        'Buangkok link', 'Fernvale link', 'Jln tiga', 'Yuan ching rd',\n",
       "        'Compassvale link', 'Marine parade ctrl', 'Compassvale bow',\n",
       "        'Punggol rd', 'Bedok ctrl', 'Punggol east', 'Sengkang ctrl',\n",
       "        'Tampines ctrl 7', 'Sengkang west ave', 'Punggol pl',\n",
       "        'Cantonment rd', 'Ghim moh link', 'Simei lane', 'Yishun st 41',\n",
       "        'Telok blangah st 31', 'Jln kayu', 'Lor 1a toa payoh',\n",
       "        'Punggol walk', 'Sengkang west way', 'Buangkok green',\n",
       "        'Punggol way', 'Yishun st 31', 'Teck whye cres', 'Montreal link',\n",
       "        'Upp serangoon cres', 'Sumang link', 'Sengkang east ave',\n",
       "        'Yishun ave 1', 'Anchorvale cres', 'Anchorvale st',\n",
       "        'Tampines ctrl 8', 'Yishun st 51', 'Upp serangoon view',\n",
       "        'Tampines ave 1', 'Bedok reservoir cres', 'Ang mo kio st 61',\n",
       "        'Dawson rd', 'Fernvale st', 'Hougang st 32', 'Tampines st 86',\n",
       "        'Sumang walk', 'Choa chu kang ave 7', 'Keat hong cl',\n",
       "        'Jurong west ctrl 3', 'Keat hong link', 'Aljunied ave 2',\n",
       "        'Canberra cres', 'Sumang lane', 'Canberra st', 'Ang mo kio st 44',\n",
       "        'Woodlands rise', 'Canberra walk', 'Ang mo kio st 51',\n",
       "        'Bt batok east ave 6', 'Bt batok west ave 9', 'Tampines st 61',\n",
       "        'Yishun st 43'], dtype=object))"
      ]
     },
     "execution_count": 105,
     "metadata": {},
     "output_type": "execute_result"
    }
   ],
   "source": [
    "df.town.unique(),df.street_name.unique()"
   ]
  },
  {
   "cell_type": "code",
   "execution_count": 106,
   "metadata": {},
   "outputs": [],
   "source": [
    "#converting the categorical to numerical \n",
    "labelencoder=LabelEncoder()\n",
    "df.town=labelencoder.fit_transform(df['town'])\n",
    "df.street_name=labelencoder.fit_transform(df['street_name'])"
   ]
  },
  {
   "cell_type": "code",
   "execution_count": 107,
   "metadata": {},
   "outputs": [
    {
     "data": {
      "text/plain": [
       "(array([ 0,  1,  2,  3,  4,  6,  7,  8,  9, 10, 11, 12, 13, 14, 16, 19, 21,\n",
       "        22, 23, 24, 25, 26, 15, 20,  5, 17, 18]),\n",
       " array([ 13,  16,  17,  14,  18,  20,  19,  21,  15,  45,  42,  50, 340,\n",
       "         39,  47, 115, 114,  38,  49,  48,  41,  43,  36,  37,  35,  40,\n",
       "        116, 437, 425,  70,  86,  84,  71,  68,  67, 200,  65,  75,  66,\n",
       "        448, 487,  52, 488, 166, 490, 236, 199, 228,  90, 198,  92, 489,\n",
       "        178, 292, 385, 226, 197, 241, 248, 235, 294, 335, 492, 299, 298,\n",
       "        175, 382, 181, 242, 345, 424, 397, 505, 510, 380,  97, 393, 392,\n",
       "         30, 438, 509, 484, 486, 143, 512, 142, 145, 144, 141, 513, 151,\n",
       "        152, 149,  99, 146, 150, 139, 322, 246, 192, 176, 434,   5, 189,\n",
       "        163, 366, 196,  31, 238, 191, 177, 208, 210, 205, 218, 206, 318,\n",
       "        216, 212, 217, 483, 255, 260, 256, 257, 258, 259, 347, 579, 201,\n",
       "        227,  61,  60,  62, 271, 268, 261, 269, 233, 441, 342, 186,  33,\n",
       "        514, 504,  51, 517, 320, 285, 188, 167, 346, 291, 232, 338, 501,\n",
       "        247, 290,   2, 300, 162, 324, 325, 327, 100, 102, 481, 101, 170,\n",
       "        323, 194, 169, 442, 334, 203, 202, 204, 168, 398, 319, 420, 415,\n",
       "        417, 418, 458, 460, 480, 475, 450, 461, 459, 462, 463, 467, 476,\n",
       "        477, 451, 310, 317, 308, 314, 312, 316, 497, 313, 496, 498, 370,\n",
       "        368, 503, 254, 330, 329, 332, 328, 526, 545, 544, 563, 557, 574,\n",
       "        564, 566, 567, 555, 113, 583, 303, 439, 339, 494, 289, 363, 502,\n",
       "        433, 581, 482, 195,  59, 516, 103, 468, 315, 295, 558, 560, 573,\n",
       "         76, 426, 495, 394, 440, 305,  98, 381, 416, 369, 518, 556, 321,\n",
       "        341, 245, 234, 117, 112, 343,   6,  96,  77,   3, 119, 435, 207,\n",
       "        213, 402, 429,  78,  88, 306, 251, 547, 436,  80, 165, 367, 209,\n",
       "        383, 572,  54, 243, 470, 469,  55, 239, 554, 253, 171, 387, 297,\n",
       "        384, 302, 223, 493, 331, 575,  79,  82,  81, 282, 281, 187, 333,\n",
       "        431, 559, 421, 553,  32, 278, 344, 211, 354, 364, 365, 311,  53,\n",
       "        352,  57, 283, 353, 561,  56, 428, 478,  91, 284, 179, 549, 127,\n",
       "        358, 222, 111, 500, 215, 293, 453, 471, 430, 519, 304, 550, 423,\n",
       "        419,  64, 395, 122, 454, 270, 578, 414, 357, 190, 121, 296, 351,\n",
       "        356, 405, 221, 277, 276, 359, 464, 123, 129, 250, 455, 465,  85,\n",
       "        263, 452, 551, 133, 350, 562, 120, 546,  89, 355, 174,  58, 515,\n",
       "        548, 361, 279, 348, 362, 349, 134, 140, 131, 360, 130,  23, 237,\n",
       "        137, 521, 532, 135, 474, 507, 280, 443,  24, 466, 577, 520, 132,\n",
       "         22, 523, 580, 128, 136, 386, 286, 447, 432, 529, 537, 473, 530,\n",
       "        422, 229,  72, 224, 522, 524, 161, 307, 539, 138,  73, 249, 525,\n",
       "        535, 118,  74, 214, 264, 542, 124, 499, 272, 527, 225, 126, 399,\n",
       "        106, 400, 403, 160, 390, 536, 401, 534, 533, 391, 156, 389, 413,\n",
       "        275, 388, 531, 155, 528, 158, 540, 219, 274, 538, 565,   0, 159,\n",
       "         46, 582,   1, 409,  25,  28,  63, 273,  10, 105, 154, 148, 336,\n",
       "        511, 408, 262,   9, 412, 173,   8, 396, 180, 374, 172,  11, 109,\n",
       "        244, 182, 267, 147, 375, 301, 371, 230,  93, 541,  83, 231, 372,\n",
       "        266, 404, 184,  95, 183, 252, 576, 157, 326, 153, 377,  34, 373,\n",
       "        406, 456, 410, 376, 110, 193, 427, 569, 491, 240, 309, 378, 411,\n",
       "         94, 379, 568, 485, 337, 506, 445, 407, 552,   7,  12, 457, 571,\n",
       "        508, 449,  44,  29, 164, 185, 220, 479, 446, 125, 287, 265, 288,\n",
       "          4, 104, 444, 107,  26, 543, 108,  27,  69,  87, 472, 570]))"
      ]
     },
     "execution_count": 107,
     "metadata": {},
     "output_type": "execute_result"
    }
   ],
   "source": [
    "df.town.unique(),df.street_name.unique()"
   ]
  },
  {
   "cell_type": "code",
   "execution_count": 108,
   "metadata": {},
   "outputs": [
    {
     "data": {
      "text/plain": [
       "(array(['Improved', 'New generation', 'Model a', 'Standard', 'Simplified',\n",
       "        'Model a-maisonette', 'Apartment', 'Maisonette', 'Terrace',\n",
       "        '2-room', 'Improved-maisonette', 'Multi generation',\n",
       "        'Premium apartment', 'Adjoined flat', 'Premium maisonette',\n",
       "        'Model a2', 'Dbss', 'Type s1', 'Type s2', 'Premium apartment loft',\n",
       "        '3gen'], dtype=object),\n",
       " array(['1 room', '3 room', '4 room', '5 room', '2 room', 'Executive',\n",
       "        'Multi generation'], dtype=object))"
      ]
     },
     "execution_count": 108,
     "metadata": {},
     "output_type": "execute_result"
    }
   ],
   "source": [
    "df.flat_model.unique(),df.flat_type.unique()"
   ]
  },
  {
   "cell_type": "code",
   "execution_count": 109,
   "metadata": {},
   "outputs": [],
   "source": [
    "ordianencoder=OrdinalEncoder()\n",
    "df.flat_model=ordianencoder.fit_transform(df[['flat_model']])\n",
    "df.flat_type=ordianencoder.fit_transform(df[['flat_type']])"
   ]
  },
  {
   "cell_type": "code",
   "execution_count": 110,
   "metadata": {},
   "outputs": [
    {
     "data": {
      "text/plain": [
       "(array([ 5., 12.,  8., 17., 16.,  9.,  3.,  7., 18.,  0.,  6., 11., 13.,\n",
       "         2., 15., 10.,  4., 19., 20., 14.,  1.]),\n",
       " array([0., 2., 3., 4., 1., 5., 6.]))"
      ]
     },
     "execution_count": 110,
     "metadata": {},
     "output_type": "execute_result"
    }
   ],
   "source": [
    "df.flat_model.unique(),df.flat_type.unique()"
   ]
  },
  {
   "cell_type": "code",
   "execution_count": 111,
   "metadata": {},
   "outputs": [
    {
     "name": "stdout",
     "output_type": "stream",
     "text": [
      "<class 'pandas.core.frame.DataFrame'>\n",
      "Index: 926819 entries, 0 to 180615\n",
      "Data columns (total 13 columns):\n",
      " #   Column               Non-Null Count   Dtype  \n",
      "---  ------               --------------   -----  \n",
      " 0   town                 926819 non-null  int32  \n",
      " 1   flat_type            926819 non-null  float64\n",
      " 2   block                926819 non-null  float64\n",
      " 3   street_name          926819 non-null  int32  \n",
      " 4   floor_area_sqm       926819 non-null  float64\n",
      " 5   flat_model           926819 non-null  float64\n",
      " 6   lease_commence_date  926819 non-null  int64  \n",
      " 7   resale_price         926819 non-null  float64\n",
      " 8   remaining_lease      926819 non-null  float64\n",
      " 9   storey_range_start   926819 non-null  int64  \n",
      " 10  storey_range_end     926819 non-null  int64  \n",
      " 11  resale_year          926819 non-null  int64  \n",
      " 12  resale_month         926819 non-null  int64  \n",
      "dtypes: float64(6), int32(2), int64(5)\n",
      "memory usage: 91.9 MB\n"
     ]
    }
   ],
   "source": [
    "df.info()"
   ]
  },
  {
   "cell_type": "code",
   "execution_count": 112,
   "metadata": {},
   "outputs": [],
   "source": [
    "#skewness\n",
    "def plot(df,column):\n",
    "    \n",
    "  #distplot\n",
    "    plt.figure(figsize=(15,4))\n",
    "    plt.subplot(1,4,1)\n",
    "    sns.distplot(df[column])\n",
    "    plt.title(\"distplot for\"+\" \"+column)\n",
    "\n",
    "  #histogram plot\n",
    "\n",
    "    plt.subplot(1,4,2)\n",
    "    sns.histplot(df, x= column, kde= True, bins=30,color=\"salmon\")\n",
    "    plt.title(\"histogram plot for\"+\" \"+column)\n",
    "\n",
    "  #boxplot\n",
    "\n",
    "    plt.subplot(1,4,3)\n",
    "    sns.boxplot(df, x=column)\n",
    "    plt.title(\"Box plot for\"+\" \"+column)\n",
    "    \n",
    "  #violin plot\n",
    "    plt.subplot(1,4,4)\n",
    "    sns.violinplot(df,x=column)\n",
    "    plt.title(\"Violin plot for\"+\" \"+column)\n",
    "    "
   ]
  },
  {
   "cell_type": "code",
   "execution_count": 41,
   "metadata": {},
   "outputs": [
    {
     "data": {
      "text/plain": [
       "Index(['town', 'flat_type', 'block', 'street_name', 'floor_area_sqm',\n",
       "       'flat_model', 'lease_commence_date', 'resale_price', 'remaining_lease',\n",
       "       'storey_range_start', 'storey_range_end', 'resale_year',\n",
       "       'resale_month'],\n",
       "      dtype='object')"
      ]
     },
     "execution_count": 41,
     "metadata": {},
     "output_type": "execute_result"
    }
   ],
   "source": [
    "cols=df.columns\n",
    "cols"
   ]
  },
  {
   "cell_type": "markdown",
   "metadata": {},
   "source": [
    "### EDA"
   ]
  },
  {
   "cell_type": "code",
   "execution_count": 113,
   "metadata": {},
   "outputs": [
    {
     "name": "stdout",
     "output_type": "stream",
     "text": [
      "Skewness: -0.08587735523145237\n",
      "Skewness: 0.3881681078412202\n",
      "Skewness: 0.6879999089486514\n",
      "Skewness: 0.022982422227428963\n",
      "Skewness: 0.366157706027709\n",
      "Skewness: 0.5002407554977054\n",
      "Skewness: 0.6462771087999098\n",
      "Skewness: 0.9403570230847526\n",
      "Skewness: 1.8758568004041871\n",
      "Skewness: 1.3508154985235328\n",
      "Skewness: 1.3515132382867237\n",
      "Skewness: 0.294434412642387\n",
      "Skewness: -0.027837762424136152\n"
     ]
    }
   ],
   "source": [
    "print('Skewness:', skew(df['town']))\n",
    "print('Skewness:', skew(df['flat_type']))\n",
    "print('Skewness:', skew(df['block']))\n",
    "print('Skewness:', skew(df['street_name']))\n",
    "print('Skewness:', skew(df['floor_area_sqm']))\n",
    "print('Skewness:', skew(df['flat_model']))\n",
    "print('Skewness:', skew(df['lease_commence_date']))\n",
    "print('Skewness:', skew(df['resale_price']))\n",
    "print('Skewness:', skew(df['remaining_lease']))\n",
    "print('Skewness:', skew(df['storey_range_start']))\n",
    "print('Skewness:', skew(df['storey_range_end']))\n",
    "print('Skewness:', skew(df['resale_year']))\n",
    "print('Skewness:', skew(df['resale_month']))"
   ]
  },
  {
   "cell_type": "code",
   "execution_count": 42,
   "metadata": {},
   "outputs": [],
   "source": [
    "for i in cols:\n",
    "    plot(df,i)"
   ]
  },
  {
   "cell_type": "code",
   "execution_count": 43,
   "metadata": {},
   "outputs": [],
   "source": [
    "# Skewness in  storey_range_start,storey_range_end,resale price"
   ]
  },
  {
   "cell_type": "code",
   "execution_count": 114,
   "metadata": {},
   "outputs": [],
   "source": [
    "#Removing the skewness\n",
    "def remove_skew(row):\n",
    "    row=np.log(row)\n",
    "    return row\n",
    "    "
   ]
  },
  {
   "cell_type": "code",
   "execution_count": 115,
   "metadata": {},
   "outputs": [],
   "source": [
    "skewedcols=['resale_price','storey_range_start','storey_range_end']\n"
   ]
  },
  {
   "cell_type": "code",
   "execution_count": 116,
   "metadata": {},
   "outputs": [
    {
     "name": "stdout",
     "output_type": "stream",
     "text": [
      "Skewness: -0.9249267198879335\n",
      "Skewness: -0.6659469529624027\n",
      "Skewness: -0.22928137254957875\n"
     ]
    }
   ],
   "source": [
    "for i in skewedcols:\n",
    "    df[i]=df[i].apply(remove_skew)\n",
    "    print('Skewness:', skew(df[i]))"
   ]
  },
  {
   "cell_type": "code",
   "execution_count": 47,
   "metadata": {},
   "outputs": [],
   "source": [
    "for i in skewedcols:\n",
    "    plot(df,i)"
   ]
  },
  {
   "cell_type": "markdown",
   "metadata": {},
   "source": [
    "## Treating the Outliers\n"
   ]
  },
  {
   "cell_type": "code",
   "execution_count": 117,
   "metadata": {},
   "outputs": [],
   "source": [
    "Q1 = df['storey_range_end'].quantile(0.25)\n",
    "Q3 = df['storey_range_end'].quantile(0.75)\n",
    "IQR = Q3 - Q1\n",
    "\n",
    "#lower and upper bounds\n",
    "lower_bound = Q1 - 1.5 * IQR\n",
    "upper_bound = Q3 + 1.5 * IQR\n",
    "\n",
    "df['storey_range_end']=df['storey_range_end'].clip(lower_bound,upper_bound)\n",
    "\n",
    "plot(df,'storey_range_end')"
   ]
  },
  {
   "cell_type": "code",
   "execution_count": 118,
   "metadata": {},
   "outputs": [],
   "source": [
    "Q1 = df['storey_range_start'].quantile(0.25)\n",
    "Q3 = df['storey_range_start'].quantile(0.75)\n",
    "IQR = Q3 - Q1\n",
    "\n",
    "#lower and upper bounds\n",
    "lower_bound = Q1 - 1.5 * IQR\n",
    "upper_bound = Q3 + 1.5 * IQR\n",
    "\n",
    "df['storey_range_start']=df['storey_range_start'].clip(lower_bound,upper_bound)\n",
    "plot(df,'storey_range_start')\n"
   ]
  },
  {
   "cell_type": "code",
   "execution_count": 119,
   "metadata": {},
   "outputs": [],
   "source": [
    "Q1 = df['floor_area_sqm'].quantile(0.25)\n",
    "Q3 = df['floor_area_sqm'].quantile(0.75)\n",
    "IQR = Q3 - Q1\n",
    "\n",
    "#lower and upper bounds\n",
    "lower_bound = Q1 - 1.5 * IQR\n",
    "upper_bound = Q3 + 1.5 * IQR\n",
    "\n",
    "df['floor_area_sqm']=df['floor_area_sqm'].clip(lower_bound,upper_bound)\n",
    "plot(df,'floor_area_sqm')"
   ]
  },
  {
   "cell_type": "code",
   "execution_count": 120,
   "metadata": {},
   "outputs": [
    {
     "data": {
      "image/png": "[encoded data removed]",
      "text/plain": [
       "<Figure size 1500x400 with 4 Axes>"
      ]
     },
     "metadata": {},
     "output_type": "display_data"
    }
   ],
   "source": [
    "Q1 = df['resale_price'].quantile(0.25)\n",
    "Q3 = df['resale_price'].quantile(0.75)\n",
    "IQR = Q3 - Q1\n",
    "\n",
    "#lower and upper bounds\n",
    "lower_bound = Q1 - 1.5 * IQR\n",
    "upper_bound = Q3 + 1.5 * IQR\n",
    "\n",
    "df['resale_price']=df['resale_price'].clip(lower_bound,upper_bound)\n",
    "plot(df,'resale_price')"
   ]
  },
  {
   "cell_type": "code",
   "execution_count": 121,
   "metadata": {},
   "outputs": [
    {
     "data": {
      "text/html": [
       "<div>\n",
       "<style scoped>\n",
       "    .dataframe tbody tr th:only-of-type {\n",
       "        vertical-align: middle;\n",
       "    }\n",
       "\n",
       "    .dataframe tbody tr th {\n",
       "        vertical-align: top;\n",
       "    }\n",
       "\n",
       "    .dataframe thead th {\n",
       "        text-align: right;\n",
       "    }\n",
       "</style>\n",
       "<table border=\"1\" class=\"dataframe\">\n",
       "  <thead>\n",
       "    <tr style=\"text-align: right;\">\n",
       "      <th></th>\n",
       "      <th>count</th>\n",
       "      <th>mean</th>\n",
       "      <th>std</th>\n",
       "      <th>min</th>\n",
       "      <th>25%</th>\n",
       "      <th>50%</th>\n",
       "      <th>75%</th>\n",
       "      <th>max</th>\n",
       "    </tr>\n",
       "  </thead>\n",
       "  <tbody>\n",
       "    <tr>\n",
       "      <th>town</th>\n",
       "      <td>926819.0</td>\n",
       "      <td>13.652880</td>\n",
       "      <td>8.795791</td>\n",
       "      <td>0.000000</td>\n",
       "      <td>5.000000</td>\n",
       "      <td>13.000000</td>\n",
       "      <td>23.000000</td>\n",
       "      <td>26.000000</td>\n",
       "    </tr>\n",
       "    <tr>\n",
       "      <th>flat_type</th>\n",
       "      <td>926819.0</td>\n",
       "      <td>3.013886</td>\n",
       "      <td>0.948403</td>\n",
       "      <td>0.000000</td>\n",
       "      <td>2.000000</td>\n",
       "      <td>3.000000</td>\n",
       "      <td>4.000000</td>\n",
       "      <td>6.000000</td>\n",
       "    </tr>\n",
       "    <tr>\n",
       "      <th>block</th>\n",
       "      <td>926819.0</td>\n",
       "      <td>292.741270</td>\n",
       "      <td>262.643874</td>\n",
       "      <td>1.000000</td>\n",
       "      <td>56.000000</td>\n",
       "      <td>224.000000</td>\n",
       "      <td>484.000000</td>\n",
       "      <td>980.000000</td>\n",
       "    </tr>\n",
       "    <tr>\n",
       "      <th>street_name</th>\n",
       "      <td>926819.0</td>\n",
       "      <td>285.964761</td>\n",
       "      <td>181.605421</td>\n",
       "      <td>0.000000</td>\n",
       "      <td>122.000000</td>\n",
       "      <td>278.000000</td>\n",
       "      <td>460.000000</td>\n",
       "      <td>583.000000</td>\n",
       "    </tr>\n",
       "    <tr>\n",
       "      <th>floor_area_sqm</th>\n",
       "      <td>926819.0</td>\n",
       "      <td>95.663894</td>\n",
       "      <td>25.727678</td>\n",
       "      <td>28.000000</td>\n",
       "      <td>73.000000</td>\n",
       "      <td>93.000000</td>\n",
       "      <td>113.000000</td>\n",
       "      <td>173.000000</td>\n",
       "    </tr>\n",
       "    <tr>\n",
       "      <th>flat_model</th>\n",
       "      <td>926819.0</td>\n",
       "      <td>8.990056</td>\n",
       "      <td>3.861574</td>\n",
       "      <td>0.000000</td>\n",
       "      <td>5.000000</td>\n",
       "      <td>8.000000</td>\n",
       "      <td>12.000000</td>\n",
       "      <td>20.000000</td>\n",
       "    </tr>\n",
       "    <tr>\n",
       "      <th>lease_commence_date</th>\n",
       "      <td>926819.0</td>\n",
       "      <td>1988.271432</td>\n",
       "      <td>10.657764</td>\n",
       "      <td>1966.000000</td>\n",
       "      <td>1981.000000</td>\n",
       "      <td>1986.000000</td>\n",
       "      <td>1996.000000</td>\n",
       "      <td>2022.000000</td>\n",
       "    </tr>\n",
       "    <tr>\n",
       "      <th>resale_price</th>\n",
       "      <td>926819.0</td>\n",
       "      <td>12.529594</td>\n",
       "      <td>0.577633</td>\n",
       "      <td>11.011259</td>\n",
       "      <td>12.170445</td>\n",
       "      <td>12.601487</td>\n",
       "      <td>12.943237</td>\n",
       "      <td>14.102424</td>\n",
       "    </tr>\n",
       "    <tr>\n",
       "      <th>remaining_lease</th>\n",
       "      <td>926819.0</td>\n",
       "      <td>69.525121</td>\n",
       "      <td>7.088895</td>\n",
       "      <td>41.500000</td>\n",
       "      <td>68.000000</td>\n",
       "      <td>68.000000</td>\n",
       "      <td>68.000000</td>\n",
       "      <td>97.750000</td>\n",
       "    </tr>\n",
       "    <tr>\n",
       "      <th>storey_range_start</th>\n",
       "      <td>926819.0</td>\n",
       "      <td>1.575617</td>\n",
       "      <td>0.900675</td>\n",
       "      <td>0.011858</td>\n",
       "      <td>1.386294</td>\n",
       "      <td>1.945910</td>\n",
       "      <td>2.302585</td>\n",
       "      <td>3.677021</td>\n",
       "    </tr>\n",
       "    <tr>\n",
       "      <th>storey_range_end</th>\n",
       "      <td>926819.0</td>\n",
       "      <td>2.009452</td>\n",
       "      <td>0.569122</td>\n",
       "      <td>1.098612</td>\n",
       "      <td>1.791759</td>\n",
       "      <td>2.197225</td>\n",
       "      <td>2.484907</td>\n",
       "      <td>3.524627</td>\n",
       "    </tr>\n",
       "    <tr>\n",
       "      <th>resale_year</th>\n",
       "      <td>926819.0</td>\n",
       "      <td>2006.161966</td>\n",
       "      <td>9.316127</td>\n",
       "      <td>1990.000000</td>\n",
       "      <td>1999.000000</td>\n",
       "      <td>2005.000000</td>\n",
       "      <td>2014.000000</td>\n",
       "      <td>2024.000000</td>\n",
       "    </tr>\n",
       "    <tr>\n",
       "      <th>resale_month</th>\n",
       "      <td>926819.0</td>\n",
       "      <td>6.551098</td>\n",
       "      <td>3.414128</td>\n",
       "      <td>1.000000</td>\n",
       "      <td>4.000000</td>\n",
       "      <td>7.000000</td>\n",
       "      <td>10.000000</td>\n",
       "      <td>12.000000</td>\n",
       "    </tr>\n",
       "  </tbody>\n",
       "</table>\n",
       "</div>"
      ],
      "text/plain": [
       "                        count         mean         std          min  \\\n",
       "town                 926819.0    13.652880    8.795791     0.000000   \n",
       "flat_type            926819.0     3.013886    0.948403     0.000000   \n",
       "block                926819.0   292.741270  262.643874     1.000000   \n",
       "street_name          926819.0   285.964761  181.605421     0.000000   \n",
       "floor_area_sqm       926819.0    95.663894   25.727678    28.000000   \n",
       "flat_model           926819.0     8.990056    3.861574     0.000000   \n",
       "lease_commence_date  926819.0  1988.271432   10.657764  1966.000000   \n",
       "resale_price         926819.0    12.529594    0.577633    11.011259   \n",
       "remaining_lease      926819.0    69.525121    7.088895    41.500000   \n",
       "storey_range_start   926819.0     1.575617    0.900675     0.011858   \n",
       "storey_range_end     926819.0     2.009452    0.569122     1.098612   \n",
       "resale_year          926819.0  2006.161966    9.316127  1990.000000   \n",
       "resale_month         926819.0     6.551098    3.414128     1.000000   \n",
       "\n",
       "                             25%          50%          75%          max  \n",
       "town                    5.000000    13.000000    23.000000    26.000000  \n",
       "flat_type               2.000000     3.000000     4.000000     6.000000  \n",
       "block                  56.000000   224.000000   484.000000   980.000000  \n",
       "street_name           122.000000   278.000000   460.000000   583.000000  \n",
       "floor_area_sqm         73.000000    93.000000   113.000000   173.000000  \n",
       "flat_model              5.000000     8.000000    12.000000    20.000000  \n",
       "lease_commence_date  1981.000000  1986.000000  1996.000000  2022.000000  \n",
       "resale_price           12.170445    12.601487    12.943237    14.102424  \n",
       "remaining_lease        68.000000    68.000000    68.000000    97.750000  \n",
       "storey_range_start      1.386294     1.945910     2.302585     3.677021  \n",
       "storey_range_end        1.791759     2.197225     2.484907     3.524627  \n",
       "resale_year          1999.000000  2005.000000  2014.000000  2024.000000  \n",
       "resale_month            4.000000     7.000000    10.000000    12.000000  "
      ]
     },
     "execution_count": 121,
     "metadata": {},
     "output_type": "execute_result"
    }
   ],
   "source": [
    "df.describe().T"
   ]
  },
  {
   "cell_type": "code",
   "execution_count": 122,
   "metadata": {},
   "outputs": [
    {
     "data": {
      "text/plain": [
       "<Axes: >"
      ]
     },
     "execution_count": 122,
     "metadata": {},
     "output_type": "execute_result"
    },
    {
     "data": {
      "image/png": "[encoded data removed]",
      "text/plain": [
       "<Figure size 640x480 with 2 Axes>"
      ]
     },
     "metadata": {},
     "output_type": "display_data"
    }
   ],
   "source": [
    "corelation=df.corr()\n",
    "sns.heatmap(corelation, annot=True, cmap=\"viridis\",fmt=\".2f\")"
   ]
  },
  {
   "cell_type": "code",
   "execution_count": 123,
   "metadata": {},
   "outputs": [],
   "source": [
    "df.duplicated().sum()\n",
    "df.drop_duplicates(inplace=True)"
   ]
  },
  {
   "cell_type": "code",
   "execution_count": 124,
   "metadata": {},
   "outputs": [
    {
     "data": {
      "text/plain": [
       "0"
      ]
     },
     "execution_count": 124,
     "metadata": {},
     "output_type": "execute_result"
    }
   ],
   "source": [
    "df.duplicated().sum()"
   ]
  },
  {
   "cell_type": "code",
   "execution_count": 125,
   "metadata": {},
   "outputs": [],
   "source": [
    "df.drop(\"remaining_lease\",axis =1,inplace=True)"
   ]
  },
  {
   "cell_type": "code",
   "execution_count": 126,
   "metadata": {},
   "outputs": [
    {
     "data": {
      "text/plain": [
       "(923496, 12)"
      ]
     },
     "execution_count": 126,
     "metadata": {},
     "output_type": "execute_result"
    }
   ],
   "source": [
    "df.shape"
   ]
  },
  {
   "cell_type": "code",
   "execution_count": 127,
   "metadata": {},
   "outputs": [
    {
     "name": "stdout",
     "output_type": "stream",
     "text": [
      "File exist, skipped saving\n"
     ]
    }
   ],
   "source": [
    "file_path =r\"C:\\Users\\ADMIN\\Desktop\\DATA SCIENCE\\PROJECT\\SINGAPORE SALES PRED\\final_flat.csv\"\n",
    "\n",
    "if not os.path.exists(file_path):\n",
    "    df.to_csv(file_path,index=False)\n",
    "    print(\"File saved successfully...!\")\n",
    "else:\n",
    "    print(\"File exist, skipped saving\")"
   ]
  },
  {
   "cell_type": "markdown",
   "metadata": {},
   "source": [
    "## Model Selection"
   ]
  },
  {
   "cell_type": "code",
   "execution_count": 128,
   "metadata": {},
   "outputs": [],
   "source": [
    "def select_model(df,algorithm,target_column):\n",
    "    \n",
    "    X = df.drop(target_column,axis=1)\n",
    "    y = df[target_column]\n",
    "    metrics_list = []\n",
    "    \n",
    "    X_train,X_test,y_train,y_test=train_test_split(X,y,test_size=0.2,random_state=42)\n",
    "    \n",
    "    model=algorithm().fit(X_train,y_train)\n",
    "    y_pred_train=model.predict(X_train)\n",
    "    y_pred_test=model.predict(X_test)\n",
    "    \n",
    "    train_mse=mean_squared_error(y_train,y_pred_train)\n",
    "    train_rmse=np.sqrt(train_mse)\n",
    "    train_mae=mean_absolute_error(y_train,y_pred_train)\n",
    "    train_r2=r2_score(y_train,y_pred_train)\n",
    "    \n",
    "    test_mse=mean_squared_error(y_test,y_pred_test)\n",
    "    test_rmse=np.sqrt(test_mse)\n",
    "    test_mae=mean_absolute_error(y_test,y_pred_test)\n",
    "    test_r2=r2_score(y_test,y_pred_test)\n",
    "    \n",
    "    metrics_train={\"Data\": \"Train Data\",\n",
    "        \"Model Name\":algorithm.__name__,\n",
    "        \"R2_score\":train_r2,\n",
    "        \"Mean_squared_error\":train_mse,\n",
    "        \"Root_mean_squared_error\":train_rmse,\n",
    "        \"Mean_absolute_error\":train_mae\n",
    "        }\n",
    "\n",
    "    metrics_test={\"Data\": \"Test Data\",\n",
    "        \"Model Name\":algorithm.__name__,\n",
    "        \"R2_score\":test_r2,\n",
    "        \"Mean_squared_error\":test_mse,\n",
    "        \"Root_mean_squared_error\":test_rmse,\n",
    "        \"Mean_absolute_error\":test_mae\n",
    "            }\n",
    "\n",
    "    print(metrics_train)\n",
    "    print(metrics_test)\n",
    "    print(\"\") "
   ]
  },
  {
   "cell_type": "code",
   "execution_count": 60,
   "metadata": {},
   "outputs": [
    {
     "name": "stdout",
     "output_type": "stream",
     "text": [
      "{'Data': 'Train Data', 'Model Name': 'LinearRegression', 'R2_score': 0.7870430740010687, 'Mean_squared_error': 0.07056029232909511, 'Root_mean_squared_error': 0.2656318737070066, 'Mean_absolute_error': 0.20842855936123023}\n",
      "{'Data': 'Test Data', 'Model Name': 'LinearRegression', 'R2_score': 0.7866291908185453, 'Mean_squared_error': 0.0705181134706153, 'Root_mean_squared_error': 0.26555246839488295, 'Mean_absolute_error': 0.2085634529957907}\n",
      "\n",
      "{'Data': 'Train Data', 'Model Name': 'DecisionTreeRegressor', 'R2_score': 0.9997045055228361, 'Mean_squared_error': 9.790795294643332e-05, 'Root_mean_squared_error': 0.009894844766161485, 'Mean_absolute_error': 0.0017564643438713363}\n",
      "{'Data': 'Test Data', 'Model Name': 'DecisionTreeRegressor', 'R2_score': 0.972046253725868, 'Mean_squared_error': 0.009238590129785021, 'Root_mean_squared_error': 0.09611758491444228, 'Mean_absolute_error': 0.06527319116008543}\n",
      "\n",
      "{'Data': 'Train Data', 'Model Name': 'RandomForestRegressor', 'R2_score': 0.9976559577191499, 'Mean_squared_error': 0.0007766655524007934, 'Root_mean_squared_error': 0.027868719963442767, 'Mean_absolute_error': 0.018860201369309066}\n",
      "{'Data': 'Test Data', 'Model Name': 'RandomForestRegressor', 'R2_score': 0.9844139387780606, 'Mean_squared_error': 0.005151124645517854, 'Root_mean_squared_error': 0.07177133582091011, 'Mean_absolute_error': 0.049193757874207954}\n",
      "\n",
      "{'Data': 'Train Data', 'Model Name': 'GradientBoostingRegressor', 'R2_score': 0.9459183811273958, 'Mean_squared_error': 0.017919186330200922, 'Root_mean_squared_error': 0.13386256508150784, 'Mean_absolute_error': 0.10224253007458697}\n",
      "{'Data': 'Test Data', 'Model Name': 'GradientBoostingRegressor', 'R2_score': 0.9456343518152468, 'Mean_squared_error': 0.017967607482500914, 'Root_mean_squared_error': 0.13404330450455523, 'Mean_absolute_error': 0.10239960726127434}\n",
      "\n",
      "{'Data': 'Train Data', 'Model Name': 'XGBRegressor', 'R2_score': 0.9826059313169486, 'Mean_squared_error': 0.00576328083865476, 'Root_mean_squared_error': 0.07591627518954523, 'Mean_absolute_error': 0.055735261903787546}\n",
      "{'Data': 'Test Data', 'Model Name': 'XGBRegressor', 'R2_score': 0.9820933072086488, 'Mean_squared_error': 0.00591808316699069, 'Root_mean_squared_error': 0.07692907881283052, 'Mean_absolute_error': 0.05623825490929718}\n",
      "\n"
     ]
    }
   ],
   "source": [
    "select_model(df,LinearRegression,'resale_price')\n",
    "select_model(df,DecisionTreeRegressor,'resale_price')\n",
    "select_model(df,RandomForestRegressor,'resale_price')\n",
    "select_model(df,GradientBoostingRegressor,'resale_price')\n",
    "select_model(df,XGBRegressor,'resale_price')\n",
    "select_model(df,ExtraTreesRegressor,'resale_price')\n",
    "select_model(df,AdaBoostRegressor,'resale_price')"
   ]
  },
  {
   "cell_type": "markdown",
   "metadata": {},
   "source": [
    "### RandomForestRegressor is the Best Model "
   ]
  },
  {
   "cell_type": "code",
   "execution_count": 129,
   "metadata": {},
   "outputs": [
    {
     "name": "stdout",
     "output_type": "stream",
     "text": [
      "{'Data': 'Test Data', 'Model Name': 'RandomForestRegressor', 'R2_score': 0.98341630948617, 'Mean_squared_error': 0.005488710105508609, 'Root_mean_squared_error': 0.07408582931646651, 'Mean_absolute_error': 0.05089518414576735}\n"
     ]
    }
   ],
   "source": [
    "X =df.drop(\"resale_price\",axis=1)\n",
    "y = df['resale_price']\n",
    "\n",
    "#split train and testing data\n",
    "X_train,X_test,y_train,y_test = train_test_split(X,y,test_size=0.15,random_state=3)\n",
    "#fit the model on training data\n",
    "model1 = RandomForestRegressor(n_estimators=10).fit(X_train,y_train)\n",
    "y_pred=model1.predict(X_test)\n",
    "\n",
    "test_mse= mean_squared_error(y_test, y_pred)\n",
    "test_rmse= np.sqrt(test_mse)\n",
    "test_mae= mean_absolute_error(y_test, y_pred)\n",
    "test_r2= r2_score(y_test, y_pred)\n",
    "\n",
    "metrics_test={\"Data\": \"Test Data\",\n",
    "        \"Model Name\":RandomForestRegressor.__name__,\n",
    "        \"R2_score\":test_r2,\n",
    "        \"Mean_squared_error\":test_mse,\n",
    "        \"Root_mean_squared_error\":test_rmse,\n",
    "        \"Mean_absolute_error\":test_mae\n",
    "            }\n",
    "\n",
    "print(metrics_test)"
   ]
  },
  {
   "cell_type": "code",
   "execution_count": 59,
   "metadata": {},
   "outputs": [
    {
     "data": {
      "text/plain": [
       "town                      0.000000\n",
       "flat_type                 2.000000\n",
       "block                   445.000000\n",
       "street_name              14.000000\n",
       "floor_area_sqm           67.000000\n",
       "flat_model               12.000000\n",
       "lease_commence_date    1979.000000\n",
       "resale_price             11.011259\n",
       "storey_range_start        1.945910\n",
       "storey_range_end          2.197225\n",
       "resale_year            1990.000000\n",
       "resale_month             11.000000\n",
       "Name: 10436, dtype: float64"
      ]
     },
     "execution_count": 59,
     "metadata": {},
     "output_type": "execute_result"
    }
   ],
   "source": [
    "df.iloc[10125]"
   ]
  },
  {
   "cell_type": "code",
   "execution_count": 60,
   "metadata": {},
   "outputs": [
    {
     "data": {
      "text/plain": [
       "60552.073934703054"
      ]
     },
     "execution_count": 60,
     "metadata": {},
     "output_type": "execute_result"
    }
   ],
   "source": [
    "np.exp(11.011259)"
   ]
  },
  {
   "cell_type": "code",
   "execution_count": 62,
   "metadata": {},
   "outputs": [],
   "source": [
    "user_input = {}\n",
    "for column in X:\n",
    "    user_input[column] = float(input(f\"Enter value for {column}: \"))"
   ]
  },
  {
   "cell_type": "code",
   "execution_count": 1,
   "metadata": {},
   "outputs": [],
   "source": [
    "from sklearn.preprocessing import StandardScaler"
   ]
  },
  {
   "cell_type": "code",
   "execution_count": 63,
   "metadata": {},
   "outputs": [],
   "source": [
    "scaler = StandardScaler()\n",
    "sample_input = pd.DataFrame(user_input, index=[0])\n",
    "sample_input_scaled = scaler.fit_transform(sample_input)\n",
    "\n"
   ]
  },
  {
   "cell_type": "code",
   "execution_count": 67,
   "metadata": {},
   "outputs": [
    {
     "data": {
      "text/plain": [
       "array([11.01987374])"
      ]
     },
     "execution_count": 67,
     "metadata": {},
     "output_type": "execute_result"
    }
   ],
   "source": [
    "\n",
    "y_pred1=model1.predict(sample_input_scaled)\n",
    "y_pred1"
   ]
  },
  {
   "cell_type": "code",
   "execution_count": 69,
   "metadata": {},
   "outputs": [
    {
     "data": {
      "text/plain": [
       "179494.52768298783"
      ]
     },
     "execution_count": 69,
     "metadata": {},
     "output_type": "execute_result"
    }
   ],
   "source": [
    "np.exp(12.0979)"
   ]
  },
  {
   "cell_type": "markdown",
   "metadata": {},
   "source": [
    "### Saving the model"
   ]
  },
  {
   "cell_type": "code",
   "execution_count": 70,
   "metadata": {},
   "outputs": [],
   "source": [
    "with open('Flatprice_model.pkl',\"wb\") as f:\n",
    "    pickle.dump(model1,f)"
   ]
  },
  {
   "cell_type": "code",
   "execution_count": 72,
   "metadata": {},
   "outputs": [],
   "source": [
    "with open(\"Flatprice_model.pkl\",\"rb\") as f1:\n",
    "    regg_model= pickle.load(f1)"
   ]
  },
  {
   "cell_type": "code",
   "execution_count": 74,
   "metadata": {},
   "outputs": [
    {
     "data": {
      "text/plain": [
       "12.971744845349377"
      ]
     },
     "execution_count": 74,
     "metadata": {},
     "output_type": "execute_result"
    }
   ],
   "source": [
    "user_data = np.array([[8,3,707,152,92,12,1980,62,1.9,2016,12]])\n",
    "y_pred_1 = regg_model.predict(user_data)\n",
    "y_pred_1[0]"
   ]
  },
  {
   "cell_type": "code",
   "execution_count": null,
   "metadata": {},
   "outputs": [],
   "source": []
  }
 ],
 "metadata": {
  "kernelspec": {
   "display_name": "base",
   "language": "python",
   "name": "python3"
  },
  "language_info": {
   "codemirror_mode": {
    "name": "ipython",
    "version": 3
   },
   "file_extension": ".py",
   "mimetype": "text/x-python",
   "name": "python",
   "nbconvert_exporter": "python",
   "pygments_lexer": "ipython3",
   "version": "3.11.7"
  }
 },
 "nbformat": 4,
 "nbformat_minor": 2
}
